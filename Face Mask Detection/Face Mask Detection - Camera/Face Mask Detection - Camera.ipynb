{
 "cells": [
  {
   "cell_type": "markdown",
   "metadata": {},
   "source": [
    "# Canlı Video Akışları Üzerinde Maske Tanımlama\n",
    "\n",
    "Geliştirilen maske tanımlama modelini kullanabilmek için, öncelikle \n",
    "resimlerdeki yüz nesnelerinin belirlenmesi gerekmektedir. Bu amaçla\n",
    "kullanılabilecek birçok algoritma vardır. Bu algoritmalardan birisi \n",
    "olan OpenCV Deep Neural Networks (**OpenCV DNN**) geliştirilen modeli\n",
    "denemek için kullanılacaktır.\n",
    "\n",
    "Yöntem olarak, resim üzerinde **OpenCV DNN** yüz bulma yöntemini \n",
    "kullanarak elde ettiğimiz her bir canlı video akışı çerçevesi üzerinde \n",
    "insan yüzü ve maske varlığı araştırılacaktır."
   ]
  },
  {
   "cell_type": "code",
   "execution_count": 2,
   "metadata": {},
   "outputs": [],
   "source": [
    "import argparse\n",
    "import time\n",
    "\n",
    "import cv2\n",
    "import numpy as np\n",
    "from imutils.video import VideoStream\n",
    "from tensorflow.keras.applications.mobilenet_v2 import preprocess_input\n",
    "from tensorflow.keras.models import load_model\n",
    "from tensorflow.keras.preprocessing.image import img_to_array"
   ]
  },
  {
   "cell_type": "markdown",
   "metadata": {},
   "source": [
    "# Kameradan elde edilen görüntünün maske tahminini yapan fonksiyon"
   ]
  },
  {
   "cell_type": "code",
   "execution_count": 3,
   "metadata": {},
   "outputs": [],
   "source": [
    "def detect_and_predict_mask(frame, faceNet, maskNet, face_confidence_probability):\n",
    "    # Çerçevenin boyutlarını aldıktan sonra yüz tanımlama için bir blob oluştur\n",
    "    (h, w) = frame.shape[:2]\n",
    "    blob = cv2.dnn.blobFromImage(frame, 1.0, (300, 300), (104.0, 177.0, 123.0))\n",
    "\n",
    "    # Oluşturulan blob'u, yüz araştırması için nöral ağa yolla\n",
    "    faceNet.setInput(blob)\n",
    "    detections = faceNet.forward()\n",
    "\n",
    "    # İlgili yüzler, yerleri ve olasılıkları için yeni dizinler oluşturalım\n",
    "    faces = []\n",
    "    locs = []\n",
    "    preds = []\n",
    "\n",
    "    # Bulunan her bir yüz için işlemleri tekrarlayalım\n",
    "    for i in range(0, detections.shape[2]):\n",
    "        # Bulunan yüzün güven (confidence) olasılığını belirleyelim\n",
    "        confidence = detections[0, 0, i, 2]\n",
    "\n",
    "        # Yüz verisi için elde ettiğimiz güven oranı, daha önce belirlediğimiz kabul\n",
    "        #   edilebilir en düşük güven aralığından büyükse işleme devam edelim\n",
    "        if confidence > face_confidence_probability:\n",
    "            # cYüz nesnesinin koordinatlarını tespit edelim\n",
    "            box = detections[0, 0, i, 3:7] * np.array([w, h, w, h])\n",
    "            (startX, startY, endX, endY) = box.astype(\"int\")\n",
    "\n",
    "            # Çevreleyen kutu boyutları dışarı taşmasın\n",
    "            (startX, startY) = (max(0, startX), max(0, startY))\n",
    "            (endX, endY) = (min(w - 1, endX), min(h - 1, endY))\n",
    "\n",
    "            # İşlemek için yüz üzerinde işlemlerimizi tamamlayalım\n",
    "            face = frame[startY:endY, startX:endX]\n",
    "            face = cv2.cvtColor(face, cv2.COLOR_BGR2RGB)\n",
    "            face = cv2.resize(face, (224, 224))\n",
    "            face = img_to_array(face)\n",
    "            face = preprocess_input(face)\n",
    "            face = np.expand_dims(face, axis=0)\n",
    "\n",
    "            # Yüz ve yüzü çevreleyecek kutunun bilgilerini ilgili listelere ekleyelim\n",
    "            faces.append(face)\n",
    "            locs.append((startX, startY, endX, endY))\n",
    "\n",
    "    # En az bir yüz tespit edilmiş olmalı\n",
    "    if len(faces) > 0:\n",
    "        preds = maskNet.predict(faces)\n",
    "\n",
    "    # Yüz koordinatları ve maske sonucunu ikili olarak bir araya getirip sonuç olarak geri dödürelim\n",
    "    # locations\n",
    "    return (locs, preds)\n"
   ]
  },
  {
   "cell_type": "markdown",
   "metadata": {},
   "source": [
    "# Bilgisayarın kamerasından elde edilen görüntülerde kişiyi arayan ve bulunacak kişilerde maske araştırması yapacak fonksiyon."
   ]
  },
  {
   "cell_type": "code",
   "execution_count": 4,
   "metadata": {},
   "outputs": [],
   "source": [
    "def FaceMaskDetection_Camera(model_file, prototxt_file, weights_file, face_confidence_probability):\n",
    "    # OpenCV DNN yüz detektörü modelini yükleyelim\n",
    "    print(\"> Yüz dedektörü modeli yükleniyor ...\")\n",
    "    faceNet = cv2.dnn.readNet(prototxt_file, weights_file)\n",
    "\n",
    "    # Bizim oluşturduğumuz yüz maskesi detektör modelini yükleyelim\n",
    "    print(\"> Yüz maskesi detektör modeli yükleniyor ...\")\n",
    "    maskNet = load_model(model_file)\n",
    "\n",
    "    # Video akışını başlatalım ve kamera sensörüne hazırlanması için zaman tanıyalım\n",
    "    print(\"> Video akışı başlatılıyor...\")\n",
    "    vs = VideoStream(src=0).start()\n",
    "    time.sleep(2.0)\n",
    "    print(\"> Video akışını sonlandırmak için <Esc> tuşuna basın...\")\n",
    "\n",
    "    # Video akışından devamlı çerçeve resimler alalım\n",
    "    while True:\n",
    "        # Video akışından bir çerçeve alalım\n",
    "        frame = vs.read()\n",
    "\n",
    "        # Çerçevedeki yüzleri bulalım ve maske takıp takmadıklarını kontrol edelim\n",
    "        try:\n",
    "            (locs, preds) = detect_and_predict_mask(frame, faceNet, maskNet, face_confidence_probability)\n",
    "        except cv2.error:\n",
    "            pass\n",
    "\n",
    "        # Bulunan her yüzün ilgili koordinatlarını kullanarak sonuç elde edelim\n",
    "        for (box, pred) in zip(locs, preds):\n",
    "            # Çerçeve koordinatları ve maske olasılıklarını veriden çıkartalım\n",
    "            (startX, startY, endX, endY) = box\n",
    "            (withoutMask, mask) = pred\n",
    "\n",
    "            # Modelimizin değerlendirmesi sonucunda elde ettiğimiz sınıf etiketlerini\n",
    "            # \tkullanarak, sonuç ve sonuç karesinin rengini belirliyoruz\n",
    "            label = \"Maske VAR\" if mask > withoutMask else \"Maske YOK\"\n",
    "            color = (0, 255, 0) if label == \"Maske VAR\" else (0, 0, 255)\n",
    "\n",
    "            # Oluşturulan etikete modelin döndürdüğü olasılığı da ekliyoruz\n",
    "            label = \"{}: {:.2f}%\".format(label, max(mask, withoutMask) * 100)\n",
    "\n",
    "            # Çıktı çerçevesine etiketi ve yüzü çevreleyen dörtgeni çiziyoruz\n",
    "            cv2.putText(frame, label, (startX, startY - 10), cv2.FONT_HERSHEY_SIMPLEX, 0.45, color, 1)\n",
    "            cv2.rectangle(frame, (startX, startY), (endX, endY), color, 3)\n",
    "\n",
    "        # Üzerinde gerçekleştirdiğimi işlemler tamamlandığı için, sonuç çerçeveyi ekrana yaz\n",
    "        cv2.imshow(\"Frame\", frame)\n",
    "        key = cv2.waitKey(1) & 0xFF\n",
    "\n",
    "        # Eğer 'q' veya Esc tuşuna basılırsa, döngüyü sonlandır\n",
    "        if key == ord(\"q\") or key == 27:\n",
    "            break\n",
    "\n",
    "    cv2.destroyAllWindows()\n",
    "    vs.stop()\n"
   ]
  },
  {
   "cell_type": "markdown",
   "metadata": {},
   "source": [
    "# Program satırından başlatıldığı durumlar için gerekecek argüman düzenleyici ile parametreleri ve varsayılan değerlerini ortama tanıtıyoruz"
   ]
  },
  {
   "cell_type": "code",
   "execution_count": 6,
   "metadata": {},
   "outputs": [],
   "source": [
    "#ap = argparse.ArgumentParser()\n",
    "#ap.add_argument(\"-m\", \"--model\", type=str,\n",
    "#\tdefault=\"mask_detector.model\",\n",
    "#\thelp=\"Eğitilmiş yüz maskesi detektörünün diskteki yolu\")\n",
    "#ap.add_argument(\"-p\", \"--prototxt\", type=str,\n",
    "#\tdefault=r'face_detector\\deploy.prototxt',\n",
    "#\thelp=\"Eğitimli DNN dosyası olan Caffe “deploy” prototxt'in diskteki yolu\")\n",
    "#ap.add_argument(\"-w\", \"--weights\", type=str,\n",
    "#\tdefault=r'face_detector\\res10_300x300_ssd_iter_140000.caffemodel',\n",
    "#\thelp=\"Daha önce eğitlmiş olan DNN Caffe modelinin ağırlıklarının olduğu dosyanın diskteki yolu\")\n",
    "#ap.add_argument(\"-c\", \"--confidence\", type=float, default=0.5,\n",
    "#\thelp=\"Bulunan yüzlerin minimum olasılıkları\")\n",
    "#args = vars(ap.parse_args())\n"
   ]
  },
  {
   "cell_type": "markdown",
   "metadata": {},
   "source": [
    "# Makine Öğrenimi Örneği Programı: Maske Tanıma\n",
    "Sonlandırmak için 'Esc' yada 'q' tuşuna basınız"
   ]
  },
  {
   "cell_type": "code",
   "execution_count": 7,
   "metadata": {},
   "outputs": [
    {
     "name": "stdout",
     "output_type": "stream",
     "text": [
      "> Yüz dedektörü modeli yükleniyor ...\n",
      "> Yüz maskesi detektör modeli yükleniyor ...\n",
      "> Video akışı başlatılıyor...\n",
      "> Video akışını sonlandırmak için <Esc> tuşuna basın...\n"
     ]
    }
   ],
   "source": [
    "FaceMaskDetection_Camera(\n",
    "    \"mask_detector.model\", \n",
    "    r'face_detector\\deploy.prototxt', \n",
    "    r'face_detector\\res10_300x300_ssd_iter_140000.caffemodel', \n",
    "    0.5)"
   ]
  },
  {
   "cell_type": "code",
   "execution_count": null,
   "metadata": {},
   "outputs": [],
   "source": []
  }
 ],
 "metadata": {
  "kernelspec": {
   "display_name": "Python 3",
   "language": "python",
   "name": "python3"
  },
  "language_info": {
   "codemirror_mode": {
    "name": "ipython",
    "version": 3
   },
   "file_extension": ".py",
   "mimetype": "text/x-python",
   "name": "python",
   "nbconvert_exporter": "python",
   "pygments_lexer": "ipython3",
   "version": "3.8.5"
  }
 },
 "nbformat": 4,
 "nbformat_minor": 4
}
